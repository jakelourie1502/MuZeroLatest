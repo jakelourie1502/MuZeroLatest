{
 "cells": [
  {
   "cell_type": "code",
   "execution_count": 143,
   "metadata": {},
   "outputs": [
    {
     "name": "stdout",
     "output_type": "stream",
     "text": [
      "9.300000000000013\n"
     ]
    }
   ],
   "source": [
    "from numpy import load\n",
    "data = load('40_epoch_analysis_file.npy')\n",
    "\n",
    "print(np.max(data[:,4]))\n",
    "#7 children ; policy, yes/no action, Qe, Q, r, v, exp_r, exp_v, epoch, epoch, sims, actual action, game_step, state_NUM\n"
   ]
  },
  {
   "cell_type": "code",
   "execution_count": 144,
   "metadata": {},
   "outputs": [],
   "source": [
    "dicky = {'policy': 0,'action':1, 'Qe':2, 'Q':3, 'r':4, 'v':5, 'exp_r':6 , 'exp_v':7, 'epoch':8, 'game_step': 11}"
   ]
  },
  {
   "cell_type": "code",
   "execution_count": 185,
   "metadata": {},
   "outputs": [
    {
     "data": {
      "text/plain": [
       "array([  0.,   0.,   0., ..., 247., 247., 247.])"
      ]
     },
     "execution_count": 185,
     "metadata": {},
     "output_type": "execute_result"
    }
   ],
   "source": [
    "np.set_printoptions(suppress=True)"
   ]
  },
  {
   "cell_type": "code",
   "execution_count": 145,
   "metadata": {},
   "outputs": [],
   "source": [
    "import matplotlib.pyplot as plt"
   ]
  },
  {
   "cell_type": "code",
   "execution_count": 157,
   "metadata": {},
   "outputs": [],
   "source": [
    "r = data[:, 8] < 12 \n",
    "s = data[: , 8] > 10"
   ]
  },
  {
   "cell_type": "code",
   "execution_count": 161,
   "metadata": {},
   "outputs": [
    {
     "data": {
      "text/plain": [
       "(255493, 700497, 27762)"
      ]
     },
     "execution_count": 161,
     "metadata": {},
     "output_type": "execute_result"
    }
   ],
   "source": [
    "\n",
    "r*s\n",
    "np.sum(r), np.sum(s),np.sum(r*s)"
   ]
  },
  {
   "cell_type": "code",
   "execution_count": 174,
   "metadata": {},
   "outputs": [],
   "source": [
    "epoch_floor = 30\n",
    "epoch_ceiling = 40\n",
    "ef_floor = data[: , dicky['epoch']] > epoch_floor\n",
    "ef_ceiling = data[:, dicky['epoch']] < epoch_ceiling\n",
    "ef_all = ef_floor * ef_ceiling                        \n",
    "\n",
    "a = data[ef_all]\n",
    "\n",
    "game_step_ceiling = 50\n",
    "gs_c = data[: ]\n",
    "\n",
    "x_column = dicky['Qe']\n",
    "y_column = dicky['policy']\n",
    "x = a[:, x_column]\n",
    "mean_x = np.mean(x)\n",
    "std_x = np.std(x)\n",
    "filty = np.abs(x - mean_x) < 3*std_x\n",
    "x = x[filty]\n",
    "y = a[:, y_column][filty]\n"
   ]
  },
  {
   "cell_type": "code",
   "execution_count": 175,
   "metadata": {},
   "outputs": [
    {
     "data": {
      "image/png": "[encoded data removed]",
      "text/plain": [
       "<Figure size 504x504 with 1 Axes>"
      ]
     },
     "metadata": {
      "needs_background": "light"
     },
     "output_type": "display_data"
    }
   ],
   "source": [
    "# Qe, Q, r, v, exp_r, exp_v\n",
    "fig = plt.figure(figsize=(7,7))\n",
    "plt.scatter(x, y); plt.show()"
   ]
  },
  {
   "cell_type": "code",
   "execution_count": null,
   "metadata": {},
   "outputs": [],
   "source": []
  },
  {
   "cell_type": "code",
   "execution_count": null,
   "metadata": {},
   "outputs": [],
   "source": []
  }
 ],
 "metadata": {
  "kernelspec": {
   "display_name": "Python 3",
   "language": "python",
   "name": "python3"
  },
  "language_info": {
   "codemirror_mode": {
    "name": "ipython",
    "version": 3
   },
   "file_extension": ".py",
   "mimetype": "text/x-python",
   "name": "python",
   "nbconvert_exporter": "python",
   "pygments_lexer": "ipython3",
   "version": "3.8.2"
  }
 },
 "nbformat": 4,
 "nbformat_minor": 4
}
